{
 "cells": [
  {
   "cell_type": "code",
   "execution_count": null,
   "metadata": {},
   "outputs": [],
   "source": [
    "import numpy as np\n",
    "import pandas as pd\n",
    "#pd.describe_option('columns')\n",
    "pd.set_option('max_columns', 1000)\n",
    "pd.__version__"
   ]
  },
  {
   "cell_type": "code",
   "execution_count": null,
   "metadata": {},
   "outputs": [],
   "source": [
    "import os\n",
    "if not 'workbookDir' in globals():\n",
    "    workbookDir = os.getcwd()\n",
    "base = workbookDir\n",
    "base"
   ]
  },
  {
   "cell_type": "markdown",
   "metadata": {},
   "source": [
    "### 2010 CPI"
   ]
  },
  {
   "cell_type": "code",
   "execution_count": null,
   "metadata": {},
   "outputs": [],
   "source": [
    "df = pd.read_excel(f\"\"\"{base}/CPI+2010+results_pls_standardized_data.xls\"\"\")\n",
    "df"
   ]
  },
  {
   "cell_type": "code",
   "execution_count": null,
   "metadata": {},
   "outputs": [],
   "source": [
    "df.columns = df.iloc[0, :]"
   ]
  },
  {
   "cell_type": "code",
   "execution_count": null,
   "metadata": {},
   "outputs": [],
   "source": [
    "cols = df.columns.tolist()\n",
    "cols[5] = 'Minimum score'\n",
    "cols[6] = 'Maximum score'\n",
    "cols[7] = '90% Confidence Interval (Lower bound)'\n",
    "cols[8] = '90% Confidence Interval (Higher bound)'\n",
    "df.columns = cols"
   ]
  },
  {
   "cell_type": "code",
   "execution_count": null,
   "metadata": {},
   "outputs": [],
   "source": [
    "df = df.drop(0, axis=0).drop(1, axis=0).drop(2, axis=0)\n",
    "df"
   ]
  },
  {
   "cell_type": "code",
   "execution_count": null,
   "metadata": {},
   "outputs": [],
   "source": [
    "df.to_csv(f\"{base}/CPI_2010_final_dataset.csv\", index=False)"
   ]
  },
  {
   "cell_type": "markdown",
   "metadata": {},
   "source": [
    "### 2011 CPI"
   ]
  },
  {
   "cell_type": "code",
   "execution_count": null,
   "metadata": {},
   "outputs": [],
   "source": [
    "df1 = pd.read_excel(f\"\"\"{base}/CPI2011_DataPackage/CPI2011_Results.xls\"\"\", sheet_name='take1')\n",
    "df1"
   ]
  },
  {
   "cell_type": "code",
   "execution_count": null,
   "metadata": {},
   "outputs": [],
   "source": [
    "df1.to_csv(f\"{base}/CPI_2011_final_dataset_betas.csv\", index=False)"
   ]
  },
  {
   "cell_type": "code",
   "execution_count": null,
   "metadata": {},
   "outputs": [],
   "source": [
    "df2 = pd.read_excel(f\"\"\"{base}/CPI2011_DataPackage/CPI2011_Results.xls\"\"\", sheet_name='Global', usecols=range(0, 27), dtype={'Country Rank': 'Int64', 'Country Rank.1': 'Int64'})\n",
    "df2"
   ]
  },
  {
   "cell_type": "code",
   "execution_count": null,
   "metadata": {},
   "outputs": [],
   "source": [
    "cols = df2.columns.tolist()\n",
    "cols[6] = 'Maximum score'\n",
    "cols[7] = 'Minimum score'\n",
    "cols[8] = '90% Confidence Interval (Lower bound)'\n",
    "cols[9] = '90% Confidence Interval (Higher bound)'\n",
    "df2.columns = cols\n",
    "df2"
   ]
  },
  {
   "cell_type": "code",
   "execution_count": null,
   "metadata": {},
   "outputs": [],
   "source": [
    "df2 = df2.drop(0, axis=0)\n",
    "df2"
   ]
  },
  {
   "cell_type": "code",
   "execution_count": null,
   "metadata": {},
   "outputs": [],
   "source": [
    "df2.to_csv(f\"{base}/CPI_2011_final_dataset.csv\", index=False)"
   ]
  },
  {
   "cell_type": "markdown",
   "metadata": {},
   "source": [
    "### 2012 CPI"
   ]
  },
  {
   "cell_type": "markdown",
   "metadata": {},
   "source": [
    "*The excel file CPI2012_Results.xls is protected & hence, pandas can't open it. Hence, just export it to another excel file with name CPI2012_Results_Copy.xlsx & the rest of this notebook should work*"
   ]
  },
  {
   "cell_type": "code",
   "execution_count": null,
   "metadata": {},
   "outputs": [],
   "source": [
    "df = pd.read_excel(f\"\"\"{base}/2012_CPI_DataPackage/CPI2012_Results_Copy.xlsx\"\"\", dtype={'Country Rank': 'Int64'})\n",
    "df"
   ]
  },
  {
   "cell_type": "code",
   "execution_count": null,
   "metadata": {},
   "outputs": [],
   "source": [
    "df = df.drop('Unnamed: 4', axis=1)\n",
    "df"
   ]
  },
  {
   "cell_type": "code",
   "execution_count": null,
   "metadata": {},
   "outputs": [],
   "source": [
    "cols1 = df.iloc[0, :].index.tolist()\n",
    "cols2 = list(df.iloc[0, :].values)\n",
    "\n",
    "merged_cols = [y if x.startswith(\"Unnamed\") or x=='Data sources' else x for (x, y) in zip(cols1, cols2)]\n",
    "merged_cols"
   ]
  },
  {
   "cell_type": "code",
   "execution_count": null,
   "metadata": {},
   "outputs": [],
   "source": [
    "merged_cols[2] = 'Region'\n",
    "merged_cols[6] = '90% Confidence interval (Lower bound)'\n",
    "merged_cols[7] = '90% Confidence interval (Higher bound)'\n",
    "merged_cols[8] = 'Minimum score'\n",
    "merged_cols[9] = 'Maximum score'\n",
    "df.columns = merged_cols\n",
    "df"
   ]
  },
  {
   "cell_type": "code",
   "execution_count": null,
   "metadata": {},
   "outputs": [],
   "source": [
    "df = df.drop(0, axis=0)\n",
    "df"
   ]
  },
  {
   "cell_type": "code",
   "execution_count": null,
   "metadata": {},
   "outputs": [],
   "source": [
    "df.to_csv(f\"{base}/CPI_2012_final_dataset.csv\", index=False)"
   ]
  },
  {
   "cell_type": "markdown",
   "metadata": {},
   "source": [
    "### 2013 CPI"
   ]
  },
  {
   "cell_type": "code",
   "execution_count": null,
   "metadata": {},
   "outputs": [],
   "source": [
    "df = pd.read_excel(f\"\"\"{base}/CPI2013_DataBundle/CPI2013_GLOBAL_WithDataSourceScores.xls\"\"\")\n",
    "df"
   ]
  },
  {
   "cell_type": "code",
   "execution_count": null,
   "metadata": {},
   "outputs": [],
   "source": [
    "cols1 = list(df.iloc[0, :].values)\n",
    "cols2 = list(df.iloc[1, :].values)\n",
    "\n",
    "merged_cols = [y if x is np.nan or x=='Data sources' else x for (x, y) in zip(cols1, cols2)]\n",
    "merged_cols"
   ]
  },
  {
   "cell_type": "code",
   "execution_count": null,
   "metadata": {},
   "outputs": [],
   "source": [
    "merged_cols[9] = '90% Confidence interval (Lower bound)'\n",
    "merged_cols[10] = '90% Confidence interval (Higher bound)'\n",
    "merged_cols[11] = 'Minimum score'\n",
    "merged_cols[12] = 'Maximum score'\n",
    "df.columns = merged_cols\n",
    "df"
   ]
  },
  {
   "cell_type": "code",
   "execution_count": null,
   "metadata": {},
   "outputs": [],
   "source": [
    "df = df.drop(0, axis=0).drop(1, axis=0)\n",
    "df"
   ]
  },
  {
   "cell_type": "code",
   "execution_count": null,
   "metadata": {},
   "outputs": [],
   "source": [
    "df.to_csv(f\"{base}/CPI_2013_final_dataset.csv\", index=False)"
   ]
  },
  {
   "cell_type": "markdown",
   "metadata": {},
   "source": [
    "### 2014 CPI"
   ]
  },
  {
   "cell_type": "code",
   "execution_count": null,
   "metadata": {},
   "outputs": [],
   "source": [
    "df = pd.read_excel(f\"\"\"{base}/CPI2014_DataBundle/CPI 2014_FullDataSet.xlsx\"\"\")\n",
    "df"
   ]
  },
  {
   "cell_type": "code",
   "execution_count": null,
   "metadata": {},
   "outputs": [],
   "source": [
    "df.to_csv(f\"{base}/CPI_2014_final_dataset.csv\", index=False)"
   ]
  },
  {
   "cell_type": "markdown",
   "metadata": {},
   "source": [
    "### 2015 CPI"
   ]
  },
  {
   "cell_type": "code",
   "execution_count": null,
   "metadata": {},
   "outputs": [],
   "source": [
    "df = pd.read_excel(f\"\"\"{base}/2015_CPI_DataMethodologyZIP/Data/CPI_2015_FullDataSet.xlsx\"\"\")\n",
    "df"
   ]
  },
  {
   "cell_type": "code",
   "execution_count": null,
   "metadata": {},
   "outputs": [],
   "source": [
    "df.to_csv(f\"{base}/CPI_2015_final_dataset.csv\", index=False)"
   ]
  },
  {
   "cell_type": "markdown",
   "metadata": {},
   "source": [
    "### 2016 CPI"
   ]
  },
  {
   "cell_type": "code",
   "execution_count": null,
   "metadata": {},
   "outputs": [],
   "source": [
    "df = pd.read_excel(f\"\"\"{base}/CPI2016_FullDataSetWithRegionalTables.xlsx\"\"\", usecols=range(0, 32))\n",
    "df"
   ]
  },
  {
   "cell_type": "code",
   "execution_count": null,
   "metadata": {},
   "outputs": [],
   "source": [
    "df = df.drop('Country (2)', axis=1).drop('CPI2016 (2)', axis=1).drop('Rank (2)', axis=1)\n",
    "df"
   ]
  },
  {
   "cell_type": "code",
   "execution_count": null,
   "metadata": {},
   "outputs": [],
   "source": [
    "df.to_csv(f\"{base}/CPI_2016_final_dataset.csv\", index=False)"
   ]
  },
  {
   "cell_type": "markdown",
   "metadata": {},
   "source": [
    "### 2017 CPI"
   ]
  },
  {
   "cell_type": "code",
   "execution_count": null,
   "metadata": {},
   "outputs": [],
   "source": [
    "def parse_sheet(sheet):\n",
    "    df = pd.read_excel(f\"\"\"{base}/CPI2017_Full_DataSet_.xlsx\"\"\", sheet_name=sheet)\n",
    "    df.columns = df.iloc[1, :].values\n",
    "    count_ = len(df)\n",
    "    df = df.drop(0, axis=0).drop(1, axis=0).drop(count_-1, axis=0).drop(count_-2, axis=0)\n",
    "    return df\n",
    "\n",
    "sheets = ['Americas', 'Asia & the Pacific', 'Eastern Europe & Central Asia', 'Western Europe', 'MENA', 'Sub-Saharan Africa', ]\n",
    "dfs = [parse_sheet(sheet) for sheet in sheets]\n",
    "df = pd.concat(dfs).sort_values('Rank 2017')\n",
    "df"
   ]
  },
  {
   "cell_type": "code",
   "execution_count": null,
   "metadata": {},
   "outputs": [],
   "source": [
    "df.to_csv(f\"{base}/CPI_2017_final_dataset.csv\", index=False)"
   ]
  },
  {
   "cell_type": "markdown",
   "metadata": {},
   "source": [
    "### 2018 CPI"
   ]
  },
  {
   "cell_type": "code",
   "execution_count": null,
   "metadata": {},
   "outputs": [],
   "source": [
    "df = pd.read_excel(f\"\"\"{base}/2018_CPI_FullResults/2018_CPI_FullDataSet.xlsx\"\"\")\n",
    "df"
   ]
  },
  {
   "cell_type": "code",
   "execution_count": null,
   "metadata": {},
   "outputs": [],
   "source": [
    "df.columns = df.iloc[1, :].values\n",
    "df = df.drop(0, axis=0).drop(1, axis=0)\n",
    "df"
   ]
  },
  {
   "cell_type": "code",
   "execution_count": null,
   "metadata": {},
   "outputs": [],
   "source": [
    "df.to_csv(f\"{base}/CPI_2018_final_dataset.csv\", index=False)"
   ]
  },
  {
   "cell_type": "markdown",
   "metadata": {},
   "source": [
    "### 2019 CPI"
   ]
  },
  {
   "cell_type": "code",
   "execution_count": null,
   "metadata": {},
   "outputs": [],
   "source": [
    "df = pd.read_excel(f\"\"\"{base}/2019_CPI_FULLDATA/2019_CPI_RESULTS (2).xlsx\"\"\", sheet_name='CPI2019')\n",
    "df"
   ]
  },
  {
   "cell_type": "code",
   "execution_count": null,
   "metadata": {},
   "outputs": [],
   "source": [
    "df.columns = df.iloc[1, :].values\n",
    "df = df.drop(0, axis=0).drop(1, axis=0)\n",
    "df"
   ]
  },
  {
   "cell_type": "code",
   "execution_count": null,
   "metadata": {},
   "outputs": [],
   "source": [
    "df.to_csv(f\"{base}/CPI_2019_final_dataset.csv\", index=False)"
   ]
  },
  {
   "cell_type": "code",
   "execution_count": null,
   "metadata": {},
   "outputs": [],
   "source": []
  }
 ],
 "metadata": {
  "kernelspec": {
   "display_name": "Python 3",
   "language": "python",
   "name": "python3"
  },
  "language_info": {
   "codemirror_mode": {
    "name": "ipython",
    "version": 3
   },
   "file_extension": ".py",
   "mimetype": "text/x-python",
   "name": "python",
   "nbconvert_exporter": "python",
   "pygments_lexer": "ipython3",
   "version": "3.7.4"
  }
 },
 "nbformat": 4,
 "nbformat_minor": 2
}
