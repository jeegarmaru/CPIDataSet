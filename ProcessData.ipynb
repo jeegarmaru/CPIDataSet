{
 "cells": [
  {
   "cell_type": "code",
   "execution_count": null,
   "metadata": {},
   "outputs": [],
   "source": [
    "import numpy as np\n",
    "import pandas as pd\n",
    "#pd.describe_option('columns')\n",
    "pd.set_option('max_columns', 1000)\n",
    "pd.__version__"
   ]
  },
  {
   "cell_type": "code",
   "execution_count": null,
   "metadata": {},
   "outputs": [],
   "source": [
    "import os\n",
    "if not 'workbookDir' in globals():\n",
    "    workbookDir = os.getcwd()\n",
    "base = workbookDir\n",
    "base"
   ]
  },
  {
   "cell_type": "markdown",
   "metadata": {},
   "source": [
    "### 2010 CPI"
   ]
  },
  {
   "cell_type": "code",
   "execution_count": null,
   "metadata": {},
   "outputs": [],
   "source": [
    "df = pd.read_excel(f\"\"\"{base}/CPI+2010+results_pls_standardized_data.xls\"\"\")\n",
    "df"
   ]
  },
  {
   "cell_type": "code",
   "execution_count": null,
   "metadata": {},
   "outputs": [],
   "source": [
    "df.columns = df.iloc[0, :]"
   ]
  },
  {
   "cell_type": "code",
   "execution_count": null,
   "metadata": {},
   "outputs": [],
   "source": [
    "cols = df.columns.tolist()\n",
    "cols[5] = 'Minimum score'\n",
    "cols[6] = 'Maximum score'\n",
    "cols[7] = '90% Confidence Interval (Lower bound)'\n",
    "cols[8] = '90% Confidence Interval (Higher bound)'\n",
    "df.columns = cols"
   ]
  },
  {
   "cell_type": "code",
   "execution_count": null,
   "metadata": {},
   "outputs": [],
   "source": [
    "df = df.drop(0, axis=0).drop(1, axis=0).drop(2, axis=0)\n",
    "df"
   ]
  },
  {
   "cell_type": "code",
   "execution_count": null,
   "metadata": {},
   "outputs": [],
   "source": [
    "df.to_csv(f\"{base}/CPI_2010_final_dataset.csv\", index=False)"
   ]
  },
  {
   "cell_type": "markdown",
   "metadata": {},
   "source": [
    "### 2011 CPI"
   ]
  },
  {
   "cell_type": "code",
   "execution_count": null,
   "metadata": {},
   "outputs": [],
   "source": [
    "df1 = pd.read_excel(f\"\"\"{base}/CPI2011_DataPackage/CPI2011_Results.xls\"\"\", sheet_name='take1')\n",
    "df1"
   ]
  },
  {
   "cell_type": "code",
   "execution_count": null,
   "metadata": {},
   "outputs": [],
   "source": [
    "df1.to_csv(f\"{base}/CPI_2011_final_dataset_betas.csv\", index=False)"
   ]
  },
  {
   "cell_type": "code",
   "execution_count": null,
   "metadata": {},
   "outputs": [],
   "source": [
    "df2 = pd.read_excel(f\"\"\"{base}/CPI2011_DataPackage/CPI2011_Results.xls\"\"\", sheet_name='Global', usecols=26, dtype={'Country Rank': 'Int64', 'Country Rank.1': 'Int64'})\n",
    "df2"
   ]
  },
  {
   "cell_type": "code",
   "execution_count": null,
   "metadata": {},
   "outputs": [],
   "source": [
    "cols = df2.columns.tolist()\n",
    "cols[6] = 'Maximum score'\n",
    "cols[7] = 'Minimum score'\n",
    "cols[8] = '90% Confidence Interval (Lower bound)'\n",
    "cols[9] = '90% Confidence Interval (Higher bound)'\n",
    "df2.columns = cols\n",
    "df2"
   ]
  },
  {
   "cell_type": "code",
   "execution_count": null,
   "metadata": {},
   "outputs": [],
   "source": [
    "df2 = df2.drop(0, axis=0)\n",
    "df2"
   ]
  },
  {
   "cell_type": "code",
   "execution_count": null,
   "metadata": {},
   "outputs": [],
   "source": [
    "df2.to_csv(f\"{base}/CPI_2011_final_dataset.csv\", index=False)"
   ]
  },
  {
   "cell_type": "markdown",
   "metadata": {},
   "source": [
    "### 2012 CPI"
   ]
  },
  {
   "cell_type": "markdown",
   "metadata": {},
   "source": [
    "*The excel file CPI2012_Results.xls is protected & hence, pandas can't open it. Hence, just export it to another excel file with name CPI2012_Results_Copy.xlsx & the rest of this notebook should work*"
   ]
  },
  {
   "cell_type": "code",
   "execution_count": null,
   "metadata": {},
   "outputs": [],
   "source": [
    "df = pd.read_excel(f\"\"\"{base}/2012_CPI_DataPackage/CPI2012_Results_Copy.xlsx\"\"\", dtype={'Country Rank': 'Int64'})\n",
    "df"
   ]
  },
  {
   "cell_type": "code",
   "execution_count": null,
   "metadata": {},
   "outputs": [],
   "source": [
    "df = df.drop('Unnamed: 4', axis=1)\n",
    "df"
   ]
  },
  {
   "cell_type": "code",
   "execution_count": null,
   "metadata": {},
   "outputs": [],
   "source": [
    "cols1 = df.iloc[0, :].index.tolist()\n",
    "cols2 = list(df.iloc[0, :].values)\n",
    "\n",
    "merged_cols = [y if x.startswith(\"Unnamed\") or x=='Data sources' else x for (x, y) in zip(cols1, cols2)]\n",
    "merged_cols"
   ]
  },
  {
   "cell_type": "code",
   "execution_count": null,
   "metadata": {},
   "outputs": [],
   "source": [
    "merged_cols[2] = 'Region'\n",
    "merged_cols[6] = '90% Confidence interval (Lower bound)'\n",
    "merged_cols[7] = '90% Confidence interval (Higher bound)'\n",
    "merged_cols[8] = 'Minimum score'\n",
    "merged_cols[9] = 'Maximum score'\n",
    "df.columns = merged_cols\n",
    "df"
   ]
  },
  {
   "cell_type": "code",
   "execution_count": null,
   "metadata": {},
   "outputs": [],
   "source": [
    "df = df.drop(0, axis=0)\n",
    "df"
   ]
  },
  {
   "cell_type": "code",
   "execution_count": null,
   "metadata": {},
   "outputs": [],
   "source": [
    "df.to_csv(f\"{base}/CPI_2012_final_dataset.csv\", index=False)"
   ]
  },
  {
   "cell_type": "markdown",
   "metadata": {},
   "source": [
    "### 2013 CPI"
   ]
  },
  {
   "cell_type": "code",
   "execution_count": null,
   "metadata": {},
   "outputs": [],
   "source": [
    "df = pd.read_excel(f\"\"\"{base}/CPI2013_DataBundle/CPI2013_GLOBAL_WithDataSourceScores.xls\"\"\")\n",
    "df"
   ]
  },
  {
   "cell_type": "code",
   "execution_count": null,
   "metadata": {},
   "outputs": [],
   "source": [
    "cols1 = list(df.iloc[0, :].values)\n",
    "cols2 = list(df.iloc[1, :].values)\n",
    "\n",
    "merged_cols = [y if x is np.nan or x=='Data sources' else x for (x, y) in zip(cols1, cols2)]\n",
    "merged_cols"
   ]
  },
  {
   "cell_type": "code",
   "execution_count": null,
   "metadata": {},
   "outputs": [],
   "source": [
    "merged_cols[9] = '90% Confidence interval (Lower bound)'\n",
    "merged_cols[10] = '90% Confidence interval (Higher bound)'\n",
    "merged_cols[11] = 'Minimum score'\n",
    "merged_cols[12] = 'Maximum score'\n",
    "df.columns = merged_cols\n",
    "df"
   ]
  },
  {
   "cell_type": "code",
   "execution_count": null,
   "metadata": {},
   "outputs": [],
   "source": [
    "df = df.drop(0, axis=0).drop(1, axis=0)\n",
    "df"
   ]
  },
  {
   "cell_type": "code",
   "execution_count": null,
   "metadata": {},
   "outputs": [],
   "source": [
    "df.to_csv(f\"{base}/CPI_2013_final_dataset.csv\", index=False)"
   ]
  },
  {
   "cell_type": "code",
   "execution_count": null,
   "metadata": {},
   "outputs": [],
   "source": []
  }
 ],
 "metadata": {
  "kernelspec": {
   "display_name": "Python 3",
   "language": "python",
   "name": "python3"
  },
  "language_info": {
   "codemirror_mode": {
    "name": "ipython",
    "version": 3
   },
   "file_extension": ".py",
   "mimetype": "text/x-python",
   "name": "python",
   "nbconvert_exporter": "python",
   "pygments_lexer": "ipython3",
   "version": "3.7.4"
  }
 },
 "nbformat": 4,
 "nbformat_minor": 2
}
